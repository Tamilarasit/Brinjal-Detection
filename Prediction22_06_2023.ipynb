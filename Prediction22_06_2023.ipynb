{
  "cells": [
    {
      "cell_type": "markdown",
      "metadata": {
        "id": "view-in-github",
        "colab_type": "text"
      },
      "source": [
        "<a href=\"https://colab.research.google.com/github/Tamilarasit/Brinjal-Detection/blob/main/Prediction22_06_2023.ipynb\" target=\"_parent\"><img src=\"https://colab.research.google.com/assets/colab-badge.svg\" alt=\"Open In Colab\"/></a>"
      ]
    },
    {
      "cell_type": "code",
      "execution_count": null,
      "metadata": {
        "id": "_qTDgadqF8Db"
      },
      "outputs": [],
      "source": [
        "from google.colab import drive\n",
        "import os\n",
        "import cv2\n",
        "import matplotlib.pyplot as plt\n",
        "import numpy as np\n",
        "import pandas as pd"
      ]
    },
    {
      "cell_type": "code",
      "execution_count": null,
      "metadata": {
        "colab": {
          "base_uri": "https://localhost:8080/"
        },
        "id": "SPZaWbvbZHhj",
        "outputId": "c4b80412-97fa-4753-eef7-b713e346f56e"
      },
      "outputs": [
        {
          "output_type": "stream",
          "name": "stdout",
          "text": [
            "Drive already mounted at /content/drive; to attempt to forcibly remount, call drive.mount(\"/content/drive\", force_remount=True).\n"
          ]
        }
      ],
      "source": [
        "drive.mount('/content/drive')"
      ]
    },
    {
      "cell_type": "code",
      "source": [
        "csvData=pd.read_csv('/content/drive/MyDrive/My CSV/test.csv')\n",
        "csvData=csvData.sort_values(['C_Area'],ascending=False)\n",
        "csvData=csvData.reset_index()\n",
        "mid=len(csvData)//2\n",
        "matured_brinjal_Min_val=csvData._get_value(mid,'C_Area')"
      ],
      "metadata": {
        "id": "1GlkrrWRCC9T"
      },
      "execution_count": null,
      "outputs": []
    },
    {
      "cell_type": "code",
      "execution_count": null,
      "metadata": {
        "id": "UgI9eyZvZLph"
      },
      "outputs": [],
      "source": [
        "dir_path= os.path.join('/content/drive/MyDrive/Sam')\n",
        "seg_folder=os.path.join('/content/drive/MyDrive/Testing_Segmentation')\n",
        "identification_folder=os.path.join('/content/drive/MyDrive/Moderately_Matured_Identification')"
      ]
    },
    {
      "cell_type": "code",
      "execution_count": null,
      "metadata": {
        "id": "knFTmhn7vG1X"
      },
      "outputs": [],
      "source": [
        "for filename in os.listdir(dir_path):\n",
        "  img=cv2.imread(os.path.join('/content/drive/MyDrive/Testing',filename))\n",
        "  Ready_to_harvest=img.copy()\n",
        "  img=cv2.blur(img,(3,3))\n",
        "  img1=cv2.cvtColor(img,cv2.COLOR_BGR2RGB)\n",
        "  img2=img1.copy()\n",
        "  #Preprocessing for Kmeans\n",
        "  img_RGB=img1\n",
        "  img_2D_values = img_RGB.reshape((-1,3))\n",
        "  #Convert to float\n",
        "  img_val=np.float32(img_2D_values)\n",
        "  criteria = (cv2.TERM_CRITERIA_EPS + cv2.TERM_CRITERIA_MAX_ITER, 100, 0.9)\n",
        "  k=5 # No. of clusters\n",
        "  retval, labels, centers = cv2.kmeans(img_val, k, None, criteria, 10, cv2.KMEANS_RANDOM_CENTERS)\n",
        "  centers = np.uint8(centers)\n",
        "  segmented_data = centers[labels.flatten()]\n",
        "  segmented_image = segmented_data.reshape((img_RGB.shape))\n",
        "  centers1=centers.copy()\n",
        "  max=centers1.argmax(axis=0) #index of the cluster --> Max value represent white area\n",
        "  x=centers[max[0]]\n",
        "  centers1[max]=list([0,0,0])\n",
        "  max_1=centers1.argmax(axis=0)\n",
        "  max_1\n",
        "  r=max_1[0]\n",
        "  centers[r]=x\n",
        "  for i in range(5):\n",
        "    if((i!=max[0]) and (i!=max_1[0])):\n",
        "      centers[i]=list([0,0,0])\n",
        "  centers = np.uint8(centers)\n",
        "  segmented_data = centers[labels.flatten()]\n",
        "  segmented_mask = np.float32(segmented_data.reshape((img_RGB.shape)))\n",
        "  segmented_mask=cv2.cvtColor(segmented_mask,cv2.COLOR_RGB2GRAY)\n",
        "  seg_img=segmented_mask.astype(np.uint8)\n",
        "  kernel = np.ones((3, 3), np.uint8)\n",
        "  seg_img = cv2.erode(seg_img, kernel, iterations=2)\n",
        "  ret,binary_img=cv2.threshold(seg_img,100,255,0)\n",
        "  contrs, hierarchy=cv2.findContours(binary_img,cv2.RETR_EXTERNAL,cv2.CHAIN_APPROX_NONE) # cv.RETR_TREE, cv.CHAIN_APPROX_SIMPLE\n",
        "  sum=0\n",
        "  l=len(contrs)\n",
        "  for i in range(l):\n",
        "   #print(cv2.contourArea(contrs[i]))\n",
        "   sum=sum+cv2.contourArea(contrs[i])\n",
        "   avg_area=sum/l\n",
        "   T=avg_area+avg_area//2\n",
        "   blank_img=np.zeros(seg_img.shape)\n",
        "\n",
        "   big_index=[]\n",
        "  for i in range(l):\n",
        "   if(cv2.contourArea(contrs[i])>T):\n",
        "      big_index.append(i)\n",
        "   else:\n",
        "     cv2.drawContours(blank_img, [contrs[i]], -1, (255,255,255), -1)\n",
        "  ret,thresh=cv2.threshold(blank_img,100,255,1)\n",
        "  thresh=thresh.astype(np.uint8)\n",
        "  brnjal=cv2.bitwise_and(seg_img,seg_img,mask=thresh)\n",
        "  cont, hierarchy=cv2.findContours(brnjal,cv2.RETR_EXTERNAL,cv2.CHAIN_APPROX_NONE) # cv.RETR_TREE, cv.CHAIN_APPROX_SIMPLE\n",
        "  '''no_of_contours=len(cont)\n",
        "  bad_cnt_img=np.zeros(seg_img.shape)\n",
        "  bad_cnt_index=[]\n",
        "  for i in range(no_of_contours):\n",
        "    ellipse = cv2.fitEllipse(cont[i])\n",
        "    (xc,yc),(d1,d2),angle = ellipse\n",
        "    if((d1<400) or (d2<400)):\n",
        "      cv2.drawContours(bad_cnt_img, [cont[i]], -1, (255,255,255), -1)\n",
        "  ret,bad_cnt_img=cv2.threshold(bad_cnt_img,100,255,1)\n",
        "  bad_cnt_img=bad_cnt_img.astype(np.uint8)\n",
        "  brinjals=cv2.bitwise_and(brnjal,brnjal,mask=bad_cnt_img)\n",
        "  cnt1, hierarchy=cv2.findContours(brinjals,cv2.RETR_EXTERNAL,cv2.CHAIN_APPROX_NONE) # cv.RETR_TREE, cv.CHAIN_APPROX_SIMPLE\n",
        "  result=img2.copy()\n",
        "  i=0\n",
        "  for c1 in cnt1:\n",
        "    M=cv2.moments(c1)\n",
        "    cx=int(M[\"m10\"] / M[\"m00\"])\n",
        "    cy=int(M[\"m01\"] / M[\"m00\"])\n",
        "    cv2.circle(result, (int(cx),int(cy)), 20, (255, 0, 0), -1)\n",
        "    cv2.putText(result, str(i), (int(cx) - 100, int(cy) - 100),cv2.FONT_HERSHEY_SIMPLEX, 5.0, (0, 0, 255), 3)\n",
        "    i=i+1'''\n",
        "  perfect_brinjal_img=np.zeros(seg_img.shape)\n",
        "  for c in cont:\n",
        "    M0=cv2.moments(c)\n",
        "    cx0=int(M0[\"m10\"] / M0[\"m00\"])\n",
        "    cy0=int(M0[\"m01\"] / M0[\"m00\"])\n",
        "    x_val=c[:,0,0]\n",
        "    y_val=c[:,0,1]\n",
        "    a=[]\n",
        "    b=[]\n",
        "    for i in range(len(y_val)):\n",
        "      if (y_val[i]>cy0):\n",
        "       a.append(x_val[i]/100)\n",
        "       b.append(y_val[i]/100)\n",
        "    l=len(a)\n",
        "    half=l/2\n",
        "    mid=[]      # Check whether the shape is symmetric or Not\n",
        "    for i in range(int(half)):\n",
        "      mid.append((a[i]+a[l-i-1])/2)\n",
        "    min_val=np.min(mid)\n",
        "    max_val=np.max(mid)\n",
        "    dif=np.abs(min_val - max_val)\n",
        "    if(dif<1):\n",
        "      cv2.drawContours(perfect_brinjal_img, c, -1, (255,255,255), -1)\n",
        "  perfect_brinjal_img=perfect_brinjal_img.astype(np.uint8)\n",
        "  final_brinjals=cv2.bitwise_and(brnjal,brnjal,mask=perfect_brinjal_img)\n",
        "  cnt2, hierarchy=cv2.findContours(final_brinjals,cv2.RETR_EXTERNAL,cv2.CHAIN_APPROX_NONE)\n",
        "  result1=img2.copy()\n",
        "  cv2.drawContours(result1, cnt2, -1, (250, 250, 10), 15)\n",
        "  i=0\n",
        "  for c1 in cnt2:\n",
        "    M=cv2.moments(c1)\n",
        "    cx=int(M[\"m10\"] / M[\"m00\"])\n",
        "    cy=int(M[\"m01\"] / M[\"m00\"])\n",
        "    cv2.circle(result1, (int(cx),int(cy)), 20, (255, 0, 0), -1)\n",
        "    cv2.putText(result1, str(i), (int(cx) - 100, int(cy) - 100),cv2.FONT_HERSHEY_SIMPLEX, 5.0, (0, 0, 255), 3)\n",
        "    i=i+1\n",
        "    if (cv2.contourArea(c1)>=matured_brinjal_Min_val):\n",
        "      cv2.putText(Ready_to_harvest, 'RH', (int(cx) - 100, int(cy) - 100),cv2.FONT_HERSHEY_SIMPLEX, 5.0, (0, 0, 255), 10)\n",
        "      x,y,w,h=cv2.boundingRect(c1)\n",
        "      cv2.rectangle(Ready_to_harvest,(x,y),(x+w,y+h),(0,0,255),15)\n",
        "\n",
        "  cv2.imwrite(seg_folder+'/'+filename,result1)\n",
        "  cv2.imwrite(identification_folder+'/'+filename,Ready_to_harvest)"
      ]
    },
    {
      "cell_type": "code",
      "source": [
        "from google.colab import drive\n",
        "drive.mount('/content/drive')"
      ],
      "metadata": {
        "id": "05LTXM2qLbdH"
      },
      "execution_count": null,
      "outputs": []
    }
  ],
  "metadata": {
    "accelerator": "TPU",
    "colab": {
      "provenance": [],
      "mount_file_id": "1HOnn3kAPOAk2exywo3AWU9FUAapavrr5",
      "authorship_tag": "ABX9TyP64PW3UUeHrMG8W+UNhw/X",
      "include_colab_link": true
    },
    "kernelspec": {
      "display_name": "Python 3",
      "name": "python3"
    },
    "language_info": {
      "name": "python"
    }
  },
  "nbformat": 4,
  "nbformat_minor": 0
}